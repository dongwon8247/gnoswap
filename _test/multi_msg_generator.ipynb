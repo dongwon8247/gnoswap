{
 "cells": [
  {
   "cell_type": "code",
   "execution_count": 1,
   "id": "600b6cee-59be-4817-be50-2a6ac0969106",
   "metadata": {},
   "outputs": [],
   "source": [
    "from string import Template \n",
    "\n",
    "from datetime import timezone \n",
    "import datetime "
   ]
  },
  {
   "cell_type": "code",
   "execution_count": 2,
   "id": "6be7faf1-8c9e-4d07-a9af-ba9af0de0070",
   "metadata": {},
   "outputs": [],
   "source": [
    "ADDR_GSA = \"g12l9splsyngcgefrwa52x5a7scc29e9v086m6p4\"\n",
    "ADDR_LP01 = \"g1jqpr8r5akez83kp7ers0sfjyv2kgx45qa9qygd\"\n",
    "ADDR_LP02 = \"g126yz2f34qdxaqxelmky40dym379q0vw3yzhyrq\"\n",
    "ADDR_TR01 = \"g1wgdjecn5lylgvujzyspfzvhjm6qn4z8xqyyxdn\"\n",
    "\n",
    "ADDR_POOL = \"g1ee305k8yk0pjz443xpwtqdyep522f9g5r7d63w\"\n",
    "ADDR_POS = \"g1htpxzv2dkplvzg50nd8fswrneaxmdpwn459thx\"\n",
    "ADDR_STAKER = \"g13h5s9utqcwg3a655njen0p89txusjpfrs3vxp8\"\n",
    "ADDR_ROUTER = \"g1ernz3lj85hnn3ucug73ymgkhqdv2lg8e4yd48e\"\n",
    "ADDR_GOV = \"g1wj5lwwmkru3ky6dh2zztanrcj2ups8g0pfe8cu\"\n",
    "\n",
    "TX_EXPIRE = 9999999999"
   ]
  },
  {
   "cell_type": "code",
   "execution_count": 3,
   "id": "d9a73750-4014-4980-9ae8-5d6e8a31a1e0",
   "metadata": {},
   "outputs": [],
   "source": [
    "# def deployer()"
   ]
  },
  {
   "cell_type": "code",
   "execution_count": null,
   "id": "4ca8146c-5126-44e8-aacc-25b91703b8a9",
   "metadata": {},
   "outputs": [],
   "source": []
  },
  {
   "cell_type": "code",
   "execution_count": 4,
   "id": "3c65e446-26c3-44d7-b1b8-5a1f8c157516",
   "metadata": {},
   "outputs": [],
   "source": [
    "t = Template('{\"@type\":\"/vm.m_call\",\"caller\":\"$caller\",\"send\":\"$send\",\"pkg_path\":\"$pkg_path\",\"func\":\"$func\",\"args\":$args}')\n",
    "tna = Template('{\"@type\":\"/vm.m_call\",\"caller\":\"$caller\",\"send\":\"$send\",\"pkg_path\":\"$pkg_path\",\"func\":\"$func\"}')"
   ]
  },
  {
   "cell_type": "code",
   "execution_count": 21,
   "id": "8ca0ce1f-5861-4dc6-b725-eaa9a2c8c8a7",
   "metadata": {},
   "outputs": [],
   "source": [
    "gsa_msgs = \"\"\n",
    "lp01_msgs = \"\"\n",
    "lp02_msgs = \"\"\n",
    "tr01_msgs = \"\""
   ]
  },
  {
   "cell_type": "code",
   "execution_count": 39,
   "id": "383891f2-6da2-427c-b9db-b206e6d4ac3f",
   "metadata": {},
   "outputs": [],
   "source": [
    "def faucet_approve(msgs, caller, pkg_path, spender, amount):\n",
    "    msg = tna.substitute(caller=caller, send='', pkg_path=pkg_path, func='FaucetL')\n",
    "    msgs += msg\n",
    "    msgs += \",\"\n",
    "    \n",
    "    msg = t.substitute(caller=caller, send='', pkg_path=pkg_path, func='Approve', args=f'[\"{spender}\",\"{amount}\"]')\n",
    "    msgs += msg\n",
    "    msgs += \",\"\n",
    "    \n",
    "    return msgs\n",
    "\n",
    "def approve(msgs, caller, pkg_path, spender, amount):\n",
    "    msg = t.substitute(caller=caller, send='', pkg_path=pkg_path, func='Approve', args=f'[\"{spender}\",\"{amount}\"]')\n",
    "    msgs += msg\n",
    "    msgs += \",\"\n",
    "    \n",
    "    return msgs\n",
    "\n",
    "lp01_msgs = faucet_approve(lp01_msgs, ADDR_LP01, \"gno.land/r/foo\", ADDR_POOL, 50000000000)\n",
    "lp01_msgs = faucet_approve(lp01_msgs, ADDR_LP01, \"gno.land/r/bar\", ADDR_POOL, 50000000000)\n",
    "lp01_msgs = faucet_approve(lp01_msgs, ADDR_LP01, \"gno.land/r/baz\", ADDR_POOL, 50000000000)\n",
    "lp01_msgs = faucet_approve(lp01_msgs, ADDR_LP01, \"gno.land/r/qux\", ADDR_POOL, 50000000000)\n",
    "lp01_msgs = approve(lp01_msgs, ADDR_LP01, \"gno.land/r/wugnot\", ADDR_POOL, 50000000000)\n",
    "\n",
    "lp02_msgs = faucet_approve(lp02_msgs, ADDR_LP02, \"gno.land/r/foo\", ADDR_POOL, 50000000000)\n",
    "lp02_msgs = faucet_approve(lp02_msgs, ADDR_LP02, \"gno.land/r/bar\", ADDR_POOL, 50000000000)\n",
    "lp02_msgs = faucet_approve(lp02_msgs, ADDR_LP02, \"gno.land/r/baz\", ADDR_POOL, 50000000000)\n",
    "lp02_msgs = faucet_approve(lp02_msgs, ADDR_LP02, \"gno.land/r/qux\", ADDR_POOL, 50000000000)\n",
    "lp02_msgs = approve(lp02_msgs, ADDR_LP02, \"gno.land/r/wugnot\", ADDR_POOL, 50000000000)\n",
    "\n",
    "tr01_msgs = faucet_approve(tr01_msgs, ADDR_TR01, \"gno.land/r/foo\", ADDR_POOL, 50000000000)\n",
    "tr01_msgs = faucet_approve(tr01_msgs, ADDR_TR01, \"gno.land/r/bar\", ADDR_POOL, 50000000000)\n",
    "tr01_msgs = faucet_approve(tr01_msgs, ADDR_TR01, \"gno.land/r/baz\", ADDR_POOL, 50000000000)\n",
    "tr01_msgs = faucet_approve(tr01_msgs, ADDR_TR01, \"gno.land/r/qux\", ADDR_POOL, 50000000000)\n",
    "tr01_msgs = approve(tr01_msgs, ADDR_TR01, \"gno.land/r/wugnot\", ADDR_POOL, 50000000000)\n",
    "\n",
    "\n",
    "gsa_msgs = faucet_approve(gsa_msgs, ADDR_GSA, \"gno.land/r/foo\", ADDR_POOL, 50000000000)\n",
    "gsa_msgs = faucet_approve(gsa_msgs, ADDR_GSA, \"gno.land/r/bar\", ADDR_POOL, 50000000000)\n",
    "gsa_msgs = faucet_approve(gsa_msgs, ADDR_GSA, \"gno.land/r/baz\", ADDR_POOL, 50000000000)\n",
    "gsa_msgs = faucet_approve(gsa_msgs, ADDR_GSA, \"gno.land/r/qux\", ADDR_POOL, 50000000000)\n",
    "gsa_msgs = faucet_approve(gsa_msgs, ADDR_GSA, \"gno.land/r/gns\", ADDR_POOL, 50000000000)\n",
    "\n",
    "gsa_msgs = approve(gsa_msgs, ADDR_GSA, \"gno.land/r/gns\", ADDR_POOL, 50000000000)\n",
    "gsa_msgs = approve(gsa_msgs, ADDR_GSA, \"gno.land/r/wugnot\", ADDR_STAKER, 50000000000)"
   ]
  },
  {
   "cell_type": "code",
   "execution_count": 41,
   "id": "71983033-2dee-4982-bf9e-b93638af09d8",
   "metadata": {},
   "outputs": [],
   "source": [
    "multi_msg_01 = lp01_msgs[:-1]\n",
    "multi_msg_01 = f'\"msg\":[{multi_msg_01}]'\n",
    "multi_msg_01 = '{' + multi_msg_01 + ',\"fee\":{\"gas_wanted\":\"9000000\",\"gas_fee\":\"1ugnot\"},\"signatures\":null,\"memo\":\"\"}'\n",
    "\n",
    "multi_msg_02 = lp02_msgs[:-1]\n",
    "multi_msg_02 = f'\"msg\":[{multi_msg_02}]'\n",
    "multi_msg_02 = '{' + multi_msg_02 + ',\"fee\":{\"gas_wanted\":\"9000000\",\"gas_fee\":\"1ugnot\"},\"signatures\":null,\"memo\":\"\"}'\n",
    "\n",
    "multi_msg_03 = tr01_msgs[:-1]\n",
    "multi_msg_03 = f'\"msg\":[{multi_msg_03}]'\n",
    "multi_msg_03 = '{' + multi_msg_03 + ',\"fee\":{\"gas_wanted\":\"9000000\",\"gas_fee\":\"1ugnot\"},\"signatures\":null,\"memo\":\"\"}'\n",
    "\n",
    "\n",
    "multi_msg_04 = gsa_msgs[:-1]\n",
    "multi_msg_04 = f'\"msg\":[{multi_msg_04}]'\n",
    "multi_msg_04 = '{' + multi_msg_04 + ',\"fee\":{\"gas_wanted\":\"9000000\",\"gas_fee\":\"1ugnot\"},\"signatures\":null,\"memo\":\"\"}'\n",
    "\n",
    "lp01_msgs = \"\"\n",
    "lp02_msgs = \"\"\n",
    "tr01_msgs = \"\"\n",
    "gsa_msgs = \"\"\n",
    "\n",
    "with open(\"multi_msg_01.txt\", \"w\") as f:\n",
    "    f.write(multi_msg_01)\n",
    "    \n",
    "with open(\"multi_msg_02.txt\", \"w\") as f:\n",
    "    f.write(multi_msg_02)\n",
    "    \n",
    "with open(\"multi_msg_03.txt\", \"w\") as f:\n",
    "    f.write(multi_msg_03)\n",
    "    \n",
    "with open(\"multi_msg_04.txt\", \"w\") as f:\n",
    "    f.write(multi_msg_04)"
   ]
  },
  {
   "cell_type": "code",
   "execution_count": 8,
   "id": "fe3f09fa-249b-470e-90b5-2c0c8aef747f",
   "metadata": {},
   "outputs": [],
   "source": [
    "def pool_init(msgs, caller):\n",
    "    msg = tna.substitute(caller=caller, send='', pkg_path='gno.land/r/pool', func='InitManual')\n",
    "    msgs += msg\n",
    "    msgs += \",\"\n",
    "    \n",
    "    return msgs\n",
    "    \n",
    "gsa_msgs = pool_init(gsa_msgs, ADDR_GSA)"
   ]
  },
  {
   "cell_type": "code",
   "execution_count": 9,
   "id": "45ec520c-b0f3-4f0b-9d9f-fda2a8fde3c5",
   "metadata": {},
   "outputs": [],
   "source": [
    "def pool_create(msgs, caller, tokenA, tokenB, fee, sqrtX96):\n",
    "    msg = t.substitute(caller=caller, send='', pkg_path='gno.land/r/pool', func='CreatePool', args=f'[\"{tokenA}\",\"{tokenB}\",\"{fee}\",\"{sqrtX96}\"]')\n",
    "    msgs += msg\n",
    "    msgs += \",\"\n",
    "    \n",
    "    return msgs\n",
    "\n",
    "gsa_msgs = pool_create(gsa_msgs, ADDR_GSA, \"gnot\", \"gno.land/r/bar\", 100, 101729702841318637793976746270)\n",
    "gsa_msgs = pool_create(gsa_msgs, ADDR_GSA, \"gno.land/r/bar\", \"gno.land/r/baz\", 100, 101729702841318637793976746270)\n",
    "gsa_msgs = pool_create(gsa_msgs, ADDR_GSA, \"gno.land/r/baz\", \"gno.land/r/qux\", 100, 101729702841318637793976746270)\n",
    "\n",
    "gsa_msgs = pool_create(gsa_msgs, ADDR_GSA, \"gnot\", \"gno.land/r/bar\", 500, 101729702841318637793976746270)\n",
    "gsa_msgs = pool_create(gsa_msgs, ADDR_GSA, \"gno.land/r/bar\", \"gno.land/r/baz\", 500, 101729702841318637793976746270)\n",
    "gsa_msgs = pool_create(gsa_msgs, ADDR_GSA, \"gno.land/r/baz\", \"gno.land/r/qux\", 500, 101729702841318637793976746270)"
   ]
  },
  {
   "cell_type": "code",
   "execution_count": 10,
   "id": "b1e91bc5-1850-4abe-a95d-5aac9da5a37e",
   "metadata": {},
   "outputs": [],
   "source": [
    "def position_mint(msgs, caller, send, tokenA, tokenB, fee, minTick, maxTick, maxA, maxB, minA, minB):  \n",
    "    msg = t.substitute(caller=caller, send=send, pkg_path='gno.land/r/position', func='Mint', args=f'[\"{tokenA}\",\"{tokenB}\",\"{fee}\",\"{minTick}\",\"{maxTick}\",\"{maxA}\",\"{maxB}\",\"{minA}\",\"{minB}\",\"{TX_EXPIRE}\"]')\n",
    "    msgs += msg\n",
    "    msgs += \",\"\n",
    "\n",
    "    return msgs\n",
    "\n",
    "    \n",
    "lp01_msgs = position_mint(lp01_msgs, ADDR_LP01, \"10000000ugnot\", \"gnot\", \"gno.land/r/bar\", 100, 4000, 6000, 10000000, 10000000, 0, 0)\n",
    "lp02_msgs = position_mint(lp02_msgs, ADDR_LP02, \"\", \"gno.land/r/bar\", \"gno.land/r/baz\", 100, 4000, 6000, 10000000, 10000000, 0, 0)\n",
    "lp02_msgs = position_mint(lp02_msgs, ADDR_LP02, \"\", \"gno.land/r/baz\", \"gno.land/r/qux\", 100, 4000, 6000, 10000000, 10000000, 0, 0)\n",
    "\n",
    "lp01_msgs = position_mint(lp01_msgs, ADDR_LP01, \"10000000ugnot\", \"gnot\", \"gno.land/r/bar\", 500, 4000, 6000, 10000000, 10000000, 0, 0)\n",
    "lp02_msgs = position_mint(lp02_msgs, ADDR_LP02, \"\", \"gno.land/r/bar\", \"gno.land/r/baz\", 500, 4000, 6000, 10000000, 10000000, 0, 0)\n",
    "lp02_msgs = position_mint(lp02_msgs, ADDR_LP02, \"\", \"gno.land/r/baz\", \"gno.land/r/qux\", 500, 4000, 6000, 10000000, 10000000, 0, 0)"
   ]
  },
  {
   "cell_type": "code",
   "execution_count": 11,
   "id": "703d1455-08a9-4510-8d1b-9da78dc24a09",
   "metadata": {},
   "outputs": [],
   "source": [
    "def staker_create(msgs, caller, send, targetPath, rewardToken, rewardAmount, startTime, endTime):\n",
    "    msg = t.substitute(caller=caller, send=send, pkg_path='gno.land/r/staker', func='CreateExternalIncentive', args=f'[\"{targetPath}\",\"{rewardToken}\",\"{rewardAmount}\",\"{startTime}\",\"{endTime}\"]')\n",
    "    msgs += msg\n",
    "    msgs += \",\"\n",
    "    \n",
    "    return msgs\n",
    "\n",
    "    \n",
    "dt = datetime.datetime.now(timezone.utc) \n",
    "utc_time = dt.replace(tzinfo=timezone.utc) \n",
    "utc_timestamp = utc_time.timestamp() \n",
    "\n",
    "incentive_start = utc_timestamp\n",
    "incentive_end = incentive_start + 100\n",
    "\n",
    "gsa_msgs = staker_create(gsa_msgs, ADDR_GSA, \"\", \"gno.land/r/bar:gnot:10\", \"gno.land/r/obl\", \"10000000000\", incentive_start, incentive_end)"
   ]
  },
  {
   "cell_type": "code",
   "execution_count": 12,
   "id": "1d2df3eb-e451-4d76-9ced-b04f09075f17",
   "metadata": {},
   "outputs": [],
   "source": [
    "def staker_stake(msgs, caller, tokenId):\n",
    "    msg = t.substitute(caller=caller, send='', pkg_path='gno.land/r/gnft', func='Approve', args=f'[\"{ADDR_STAKER}\",\"{tokenId}\"]')\n",
    "    msgs += msg\n",
    "    msgs += \",\"\n",
    "    \n",
    "    msg = t.substitute(caller=caller, send='', pkg_path='gno.land/r/staker', func='StakeToken', args=f'[\"{tokenId}\"]')\n",
    "    msgs += msg\n",
    "    msgs += \",\"\n",
    "    \n",
    "    return msgs\n",
    "    \n",
    "    \n",
    "lp01_msgs = staker_stake(lp01_msgs, ADDR_LP01, 1)\n",
    "lp02_msgs = staker_stake(lp02_msgs, ADDR_LP02, 2)"
   ]
  },
  {
   "cell_type": "code",
   "execution_count": 13,
   "id": "a3e43c08-5cb6-4b2d-9cfc-db4edb528d85",
   "metadata": {},
   "outputs": [],
   "source": [
    "def pool_set_protocol_fee(msgs, caller, feeA, feeB):    \n",
    "    msg = t.substitute(caller=caller, send='', pkg_path='gno.land/r/pool', func='SetFeeProtocol', args=f'[\"{feeA}\",\"{feeB}\"]')\n",
    "    msgs += msg\n",
    "    msgs += \",\"\n",
    "    \n",
    "    return msgs\n",
    "    \n",
    "    \n",
    "gsa_msgs = pool_set_protocol_fee(gsa_msgs, ADDR_GSA, 6, 8)"
   ]
  },
  {
   "cell_type": "code",
   "execution_count": 28,
   "id": "73e9e677-99c6-4f2a-b980-a91fb4e3d2cb",
   "metadata": {},
   "outputs": [],
   "source": [
    "def router_swap(msgs, caller, send, tokenIn, tokenOut, amountSpecified, swapType, strRoutes, strQuotes, swapResultLimit):\n",
    "    msg = t.substitute(caller=caller, send=send, pkg_path='gno.land/r/router', func='SwapRoute', args=f'[\"{tokenIn}\",\"{tokenOut}\",\"{amountSpecified}\",\"{swapType}\",\"{strRoutes}\",\"{strQuotes}\",\"{swapResultLimit}\"]')\n",
    "    msgs += msg\n",
    "    msgs += \",\"\n",
    "    \n",
    "    return msgs\n",
    "\n",
    "    \n",
    "tr01_msgs = router_swap(tr01_msgs, ADDR_TR01, \"\", \"gno.land/r/bar\", \"gno.land/r/baz\", 123456, \"EXACT_IN\", \"gno.land/r/bar:gno.land/r/baz:100\", \"100\", 200000)\n",
    "tr01_msgs = router_swap(tr01_msgs, ADDR_TR01, \"100000000ugnot\", \"gnot\", \"gno.land/r/qux\", 987654, \"EXACT_OUT\", \"gnot:gno.land/r/bar:100*POOL*gno.land/r/bar:gno.land/r/baz:100*POOL*gno.land/r/baz:gno.land/r/qux:100,gnot:gno.land/r/bar:500*POOL*gno.land/r/bar:gno.land/r/baz:500*POOL*gno.land/r/baz:gno.land/r/qux:500\", \"40,60\", 654321)"
   ]
  },
  {
   "cell_type": "code",
   "execution_count": 30,
   "id": "80075f54-d4f1-488c-a1d1-2e6fd83e508c",
   "metadata": {},
   "outputs": [],
   "source": [
    "def position_collect(msgs, caller, tokenId, recipient, amount0, amount1):\n",
    "    msg = t.substitute(caller=caller, send='', pkg_path='gno.land/r/position', func='Collect', args=f'[\"{tokenId}\",\"{recipient}\",\"{amount0}\",\"{amount1}\"]')\n",
    "    msgs += msg\n",
    "    msgs += \",\"\n",
    "    \n",
    "    return msgs\n",
    "    \n",
    "\n",
    "lp01_msgs = position_collect(lp01_msgs, ADDR_LP01, 1, ADDR_LP01, 1000000, 1000000)\n",
    "lp01_msgs = position_collect(lp01_msgs, ADDR_LP02, 2, ADDR_LP01, 1000000, 1000000)"
   ]
  },
  {
   "cell_type": "code",
   "execution_count": 16,
   "id": "9a4bc660-4a16-4c5c-9487-70f7ee745517",
   "metadata": {},
   "outputs": [],
   "source": [
    "def staker_unstake(msgs, caller, tokenId):\n",
    "    msg = t.substitute(caller=caller, send='', pkg_path='gno.land/r/staker', func='UnstakeToken', args=f'[\"{tokenId}\"]')\n",
    "    msgs += msg\n",
    "    msgs += \",\"\n",
    "    \n",
    "    return msgs"
   ]
  }
 ],
 "metadata": {
  "kernelspec": {
   "display_name": "Python 3 (ipykernel)",
   "language": "python",
   "name": "python3"
  },
  "language_info": {
   "codemirror_mode": {
    "name": "ipython",
    "version": 3
   },
   "file_extension": ".py",
   "mimetype": "text/x-python",
   "name": "python",
   "nbconvert_exporter": "python",
   "pygments_lexer": "ipython3",
   "version": "3.9.10"
  }
 },
 "nbformat": 4,
 "nbformat_minor": 5
}
